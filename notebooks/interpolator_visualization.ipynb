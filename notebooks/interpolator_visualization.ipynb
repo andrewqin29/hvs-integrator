{
 "cells": [
  {
   "cell_type": "markdown",
   "id": "34f090ea",
   "metadata": {},
   "source": [
    "#### Visualizing lmc and mw trajectory data"
   ]
  },
  {
   "cell_type": "code",
   "execution_count": null,
   "id": "a7006912",
   "metadata": {},
   "outputs": [
    {
     "name": "stdout",
     "output_type": "stream",
     "text": [
      "setup complete.\n"
     ]
    }
   ],
   "source": [
    "import os\n",
    "import matplotlib.pyplot as plt\n",
    "import pandas as pd\n",
    "\n",
    "file_dir = os.getcwd()\n",
    "project_root = os.path.abspath(os.path.join(file_dir, os.pardir))\n",
    "mw_orbit_path = os.path.join(project_root, 'data', 'raw', 'trajectories', 'GC21M2b1_orbit_mw.txt')\n",
    "lmc_orbit_path = os.path.join(project_root, 'data', 'raw', 'trajectories', 'GC21M3b1_orbit_lmc.txt')\n",
    "\n",
    "col_names = ['time', 'x', 'y', 'z', 'vx', 'vy', 'vz']\n",
    "mw_orbit_df = pd.read_csv(mw_orbit_path, delim_whitespace=True, header=None, names=col_names)\n",
    "lmc_orbit_df = pd.read_csv(lmc_orbit_path, delim_whitespace=True, header=None, names=col_names)\n",
    "\n",
    "print(\"setup complete.\")"
   ]
  },
  {
   "cell_type": "code",
   "execution_count": null,
   "id": "187ac561",
   "metadata": {},
   "outputs": [],
   "source": []
  }
 ],
 "metadata": {
  "kernelspec": {
   "display_name": "hvs_env",
   "language": "python",
   "name": "python3"
  },
  "language_info": {
   "codemirror_mode": {
    "name": "ipython",
    "version": 3
   },
   "file_extension": ".py",
   "mimetype": "text/x-python",
   "name": "python",
   "nbconvert_exporter": "python",
   "pygments_lexer": "ipython3",
   "version": "3.13.5"
  }
 },
 "nbformat": 4,
 "nbformat_minor": 5
}
