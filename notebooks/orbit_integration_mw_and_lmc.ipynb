{
 "cells": [
  {
   "cell_type": "markdown",
   "id": "97fb9f23",
   "metadata": {},
   "source": [
    "### HVS Orbit Integration in a Dynamic MW+LMC Potential\n",
    "This notebook performs a backward orbit integration for a single Hypervelocity Star (HVS) using a time-varying gravitational potential that accounts for the motion of both the Milky Way (MW) and the Large Magellanic Cloud (LMC). The primary goal is to compare the trajectory calculated in this more realistic, dynamic potential against the trajectory calculated in a simpler, static potential.\n",
    "\n",
    "* **Data Loading:**\n",
    "    * Loads the pre-processed 6D Cartesian phase-space data for the HVS sample.\n",
    "    * Loads the center-of-mass orbital trajectories for both the MW and LMC, as derived from the Garavito-Camargo et al. (2019) simulations.\n",
    "\n",
    "* **Potential & Integration:**\n",
    "    * Imports the custom `MWPotential` class, which has been configured to use the MW and LMC orbital data to create a time-dependent potential.\n",
    "    * Integrates the orbit of the HVS backward in time for 400 Myr using leapfrog integrator that handles the time-varying acceleration.\n",
    "\n",
    "* **Comparison & Visualization:**\n",
    "    * For comparison, it also integrates the same HVS orbit using Gala's built-in static `MilkyWayPotential`.\n",
    "    * Generates a series of plots to visually compare the results from the two models:\n",
    "        1.  A 3D plot of the orbital trajectories.\n",
    "        2.  A set of 2D projections of the orbits (XY, XZ, YZ planes).\n",
    "        3.  A plot of the total energy over time to check for conservation and compare the behavior of the two potentials."
   ]
  },
  {
   "cell_type": "code",
   "execution_count": 3,
   "id": "fedb00ee",
   "metadata": {},
   "outputs": [],
   "source": [
    "# library imports\n",
    "import numpy as np\n",
    "import pandas as pd\n",
    "import matplotlib.pyplot as plt\n",
    "from mpl_toolkits.mplot3d import Axes3D\n",
    "import sys\n",
    "import os\n",
    "from tqdm.notebook import tqdm\n",
    "\n",
    "# astropy and gala imports\n",
    "from astropy import constants as const\n",
    "import astropy.units as u\n",
    "import gala.potential as gp\n",
    "import gala.dynamics as gd\n",
    "import gala.integrate as gi\n",
    "\n",
    "# package imports\n",
    "script_dir = os.getcwd()\n",
    "project_root = os.path.abspath(os.path.join(script_dir, os.pardir))\n",
    "src_path = os.path.join(project_root, 'src')\n",
    "if src_path not in sys.path:\n",
    "    sys.path.append(src_path)\n",
    "\n",
    "from hvs_orbital_kinematics.potentials import MWPotential\n",
    "from hvs_orbital_kinematics.integrators import leapfrog_step, leapfrog_step_time_varying\n",
    "\n",
    "# define physical constants\n",
    "G_KPC_MYR = const.G.to(u.kpc**3 / (u.Msun * u.Myr**2)).value\n",
    "KM_S_TO_KPC_MYR = (u.km / u.s).to(u.kpc / u.Myr)\n",
    "GYR_TO_MYR = 1000.0"
   ]
  },
  {
   "cell_type": "code",
   "execution_count": 4,
   "id": "eb942433",
   "metadata": {},
   "outputs": [
    {
     "name": "stdout",
     "output_type": "stream",
     "text": [
      "Successfully loaded HVS data from /mnt/c/Users/Andrew Qin/Desktop/HVS/data/processed/6d_cartesian_data.csv\n",
      "Successfully loaded and processed MW and LMC orbital data.\n"
     ]
    },
    {
     "name": "stderr",
     "output_type": "stream",
     "text": [
      "/tmp/ipykernel_683945/3188514946.py:12: FutureWarning: The 'delim_whitespace' keyword in pd.read_csv is deprecated and will be removed in a future version. Use ``sep='\\s+'`` instead\n",
      "  mw_orbit_df = pd.read_csv(mw_orbit_path, delim_whitespace=True, header=None, names=col_names)\n",
      "/tmp/ipykernel_683945/3188514946.py:13: FutureWarning: The 'delim_whitespace' keyword in pd.read_csv is deprecated and will be removed in a future version. Use ``sep='\\s+'`` instead\n",
      "  lmc_orbit_df = pd.read_csv(lmc_orbit_path, delim_whitespace=True, header=None, names=col_names)\n"
     ]
    }
   ],
   "source": [
    "# load hvs data\n",
    "hvs_data_path = os.path.join(project_root, 'data', 'processed', '6d_cartesian_data.csv')\n",
    "cartesian_df = pd.read_csv(hvs_data_path)\n",
    "print(f\"Successfully loaded HVS data from {hvs_data_path}\")\n",
    "\n",
    "# load mw and lmc trajectory dataframes\n",
    "mw_orbit_path = os.path.join(project_root, 'data', 'raw', 'trajectories', 'GC21M2b1_orbit_mw.txt')\n",
    "lmc_orbit_path = os.path.join(project_root, 'data', 'raw', 'trajectories', 'GC21M3b1_orbit_lmc.txt')\n",
    "\n",
    "# assign column names\n",
    "col_names = ['time', 'x', 'y', 'z', 'vx', 'vy', 'vz']\n",
    "mw_orbit_df = pd.read_csv(mw_orbit_path, delim_whitespace=True, header=None, names=col_names)\n",
    "lmc_orbit_df = pd.read_csv(lmc_orbit_path, delim_whitespace=True, header=None, names=col_names)\n",
    "\n",
    "# convert units to match integrator (Gyr -> Myr)\n",
    "mw_orbit_df['time'] *= GYR_TO_MYR\n",
    "lmc_orbit_df['time'] *= GYR_TO_MYR\n",
    "print(\"Successfully loaded and processed MW and LMC orbital data.\")"
   ]
  }
 ],
 "metadata": {
  "kernelspec": {
   "display_name": "hvs_env",
   "language": "python",
   "name": "python3"
  },
  "language_info": {
   "codemirror_mode": {
    "name": "ipython",
    "version": 3
   },
   "file_extension": ".py",
   "mimetype": "text/x-python",
   "name": "python",
   "nbconvert_exporter": "python",
   "pygments_lexer": "ipython3",
   "version": "3.12.3"
  }
 },
 "nbformat": 4,
 "nbformat_minor": 5
}
