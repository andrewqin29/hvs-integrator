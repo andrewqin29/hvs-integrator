{
 "cells": [
  {
   "cell_type": "markdown",
   "id": "97fb9f23",
   "metadata": {},
   "source": [
    "### HVS Orbit Integration in a Dynamic MW+LMC Potential\n",
    "This notebook performs a backward orbit integration for a single Hypervelocity Star (HVS) using a time-varying gravitational potential that accounts for the motion of both the Milky Way (MW) and the Large Magellanic Cloud (LMC). The primary goal is to compare the trajectory calculated in this more realistic, dynamic potential against the trajectory calculated in a simpler, static potential.\n",
    "\n",
    "* **Data Loading:**\n",
    "    * Loads the pre-processed 6D Cartesian phase-space data for the HVS sample.\n",
    "    * Loads the center-of-mass orbital trajectories for both the MW and LMC, as derived from the Garavito-Camargo et al. (2019) simulations.\n",
    "\n",
    "* **Potential & Integration:**\n",
    "    * Imports the custom `MWPotential` class, which has been configured to use the MW and LMC orbital data to create a time-dependent potential.\n",
    "    * Integrates the orbit of the HVS backward in time for 400 Myr using leapfrog integrator that handles the time-varying acceleration.\n",
    "\n",
    "* **Comparison & Visualization:**\n",
    "    * For comparison, it also integrates the same HVS orbit using Gala's built-in static `MilkyWayPotential`.\n",
    "    * Generates a series of plots to visually compare the results from the two models:\n",
    "        1.  A 3D plot of the orbital trajectories.\n",
    "        2.  A set of 2D projections of the orbits (XY, XZ, YZ planes).\n",
    "        3.  A plot of the total energy over time to check for conservation and compare the behavior of the two potentials."
   ]
  },
  {
   "cell_type": "markdown",
   "id": "a662d8e5",
   "metadata": {},
   "source": [
    "#### Data loading"
   ]
  },
  {
   "cell_type": "code",
   "execution_count": 1,
   "id": "fedb00ee",
   "metadata": {},
   "outputs": [],
   "source": [
    "# library imports\n",
    "import numpy as np\n",
    "import pandas as pd\n",
    "import matplotlib.pyplot as plt\n",
    "from mpl_toolkits.mplot3d import Axes3D\n",
    "import sys\n",
    "import os\n",
    "from tqdm.notebook import tqdm\n",
    "\n",
    "# astropy and gala imports\n",
    "from astropy import constants as const\n",
    "import astropy.units as u\n",
    "import gala.potential as gp\n",
    "import gala.dynamics as gd\n",
    "import gala.integrate as gi\n",
    "\n",
    "# package imports\n",
    "script_dir = os.getcwd()\n",
    "project_root = os.path.abspath(os.path.join(script_dir, os.pardir))\n",
    "src_path = os.path.join(project_root, 'src')\n",
    "if src_path not in sys.path:\n",
    "    sys.path.append(src_path)\n",
    "\n",
    "from hvs_orbital_kinematics.potentials import MWPotential\n",
    "from hvs_orbital_kinematics.integrators import leapfrog_step, leapfrog_step_time_varying\n",
    "\n",
    "# define physical constants\n",
    "G_KPC_MYR = const.G.to(u.kpc**3 / (u.Msun * u.Myr**2)).value\n",
    "KM_S_TO_KPC_MYR = (u.km / u.s).to(u.kpc / u.Myr)\n",
    "GYR_TO_MYR = 1000.0"
   ]
  },
  {
   "cell_type": "code",
   "execution_count": 2,
   "id": "eb942433",
   "metadata": {},
   "outputs": [
    {
     "name": "stdout",
     "output_type": "stream",
     "text": [
      "Successfully loaded HVS data from /mnt/c/Users/Andrew Qin/Desktop/HVS/data/processed/6d_cartesian_data.csv\n",
      "Successfully loaded and processed MW and LMC orbital data.\n"
     ]
    }
   ],
   "source": [
    "# load hvs data\n",
    "hvs_data_path = os.path.join(project_root, 'data', 'processed', '6d_cartesian_data.csv')\n",
    "cartesian_df = pd.read_csv(hvs_data_path)\n",
    "print(f\"Successfully loaded HVS data from {hvs_data_path}\")\n",
    "\n",
    "# load mw and lmc trajectory dataframes\n",
    "mw_orbit_path = os.path.join(project_root, 'data', 'raw', 'trajectories', 'GC21M2b1_orbit_mw.txt')\n",
    "lmc_orbit_path = os.path.join(project_root, 'data', 'raw', 'trajectories', 'GC21M3b1_orbit_lmc.txt')\n",
    "\n",
    "print(\"Successfully loaded and processed MW and LMC orbital data.\")"
   ]
  },
  {
   "cell_type": "markdown",
   "id": "a96dba8c",
   "metadata": {},
   "source": [
    "#### Comparison against Gala"
   ]
  },
  {
   "cell_type": "code",
   "execution_count": 3,
   "id": "ea1f6b64",
   "metadata": {},
   "outputs": [],
   "source": [
    "hvs_id = 4\n",
    "star_data = cartesian_df[cartesian_df['HVS'] == hvs_id].iloc[0]\n",
    "\n",
    "initial_pos_custom = star_data[['x', 'y', 'z']].values.astype(float)\n",
    "initial_vel_custom = star_data[['u', 'v', 'w']].values.astype(float) * KM_S_TO_KPC_MYR\n",
    "\n",
    "initial_pos_gala = initial_pos_custom * u.kpc\n",
    "initial_vel_gala = star_data[['u', 'v', 'w']].values.astype(float) * u.km / u.s\n",
    "\n",
    "N_STEPS = 800\n",
    "DT = -0.5\n",
    "times = np.arange(0, N_STEPS * DT, DT)"
   ]
  },
  {
   "cell_type": "code",
   "execution_count": 4,
   "id": "c85efe65",
   "metadata": {},
   "outputs": [
    {
     "name": "stderr",
     "output_type": "stream",
     "text": [
      "/mnt/c/Users/Andrew Qin/Desktop/HVS/src/hvs_orbital_kinematics/interpolators.py:17: FutureWarning: The 'delim_whitespace' keyword in pd.read_csv is deprecated and will be removed in a future version. Use ``sep='\\s+'`` instead\n",
      "  df = pd.read_csv(self.file_path, delim_whitespace=True, header=None, names=col_names)\n"
     ]
    },
    {
     "ename": "ValueError",
     "evalue": "operands could not be broadcast together with shapes (5,) (115,) ",
     "output_type": "error",
     "traceback": [
      "\u001b[31m---------------------------------------------------------------------------\u001b[39m",
      "\u001b[31mValueError\u001b[39m                                Traceback (most recent call last)",
      "\u001b[36mCell\u001b[39m\u001b[36m \u001b[39m\u001b[32mIn[4]\u001b[39m\u001b[32m, line 1\u001b[39m\n\u001b[32m----> \u001b[39m\u001b[32m1\u001b[39m dynamic_potential = \u001b[43mMWPotential\u001b[49m\u001b[43m(\u001b[49m\u001b[43mmw_orbit_path\u001b[49m\u001b[43m=\u001b[49m\u001b[43mmw_orbit_path\u001b[49m\u001b[43m,\u001b[49m\u001b[43m \u001b[49m\u001b[43mlmc_orbit_path\u001b[49m\u001b[43m=\u001b[49m\u001b[43mlmc_orbit_path\u001b[49m\u001b[43m)\u001b[49m\n\u001b[32m      2\u001b[39m custom_orbit = np.zeros((N_STEPS, \u001b[32m6\u001b[39m))\n\u001b[32m      3\u001b[39m custom_orbit[\u001b[32m0\u001b[39m] = np.concatenate([initial_pos_custom, initial_vel_custom])\n",
      "\u001b[36mFile \u001b[39m\u001b[32m/mnt/c/Users/Andrew Qin/Desktop/HVS/src/hvs_orbital_kinematics/potentials.py:234\u001b[39m, in \u001b[36mMWPotential.__init__\u001b[39m\u001b[34m(self, mw_orbit_path, lmc_orbit_path)\u001b[39m\n\u001b[32m    232\u001b[39m \u001b[38;5;28mself\u001b[39m.lmc_interpolator = \u001b[38;5;28;01mNone\u001b[39;00m\n\u001b[32m    233\u001b[39m \u001b[38;5;28;01mif\u001b[39;00m mw_orbit_path:\n\u001b[32m--> \u001b[39m\u001b[32m234\u001b[39m     \u001b[38;5;28mself\u001b[39m.mw_interpolator = \u001b[43mTrajectoryInterpolator\u001b[49m\u001b[43m(\u001b[49m\u001b[43mmw_orbit_path\u001b[49m\u001b[43m)\u001b[49m\n\u001b[32m    235\u001b[39m \u001b[38;5;28;01mif\u001b[39;00m lmc_orbit_path:\n\u001b[32m    236\u001b[39m     \u001b[38;5;28mself\u001b[39m.lmc_interpolator = TrajectoryInterpolator(lmc_orbit_path)\n",
      "\u001b[36mFile \u001b[39m\u001b[32m/mnt/c/Users/Andrew Qin/Desktop/HVS/src/hvs_orbital_kinematics/interpolators.py:13\u001b[39m, in \u001b[36mTrajectoryInterpolator.__init__\u001b[39m\u001b[34m(self, file_path, poly_degree)\u001b[39m\n\u001b[32m     11\u001b[39m \u001b[38;5;66;03m# final coefficients after model fit\u001b[39;00m\n\u001b[32m     12\u001b[39m \u001b[38;5;28mself\u001b[39m.params = {}\n\u001b[32m---> \u001b[39m\u001b[32m13\u001b[39m \u001b[38;5;28;43mself\u001b[39;49m\u001b[43m.\u001b[49m\u001b[43mfit_model\u001b[49m\u001b[43m(\u001b[49m\u001b[43m)\u001b[49m\n",
      "\u001b[36mFile \u001b[39m\u001b[32m/mnt/c/Users/Andrew Qin/Desktop/HVS/src/hvs_orbital_kinematics/interpolators.py:28\u001b[39m, in \u001b[36mTrajectoryInterpolator.fit_model\u001b[39m\u001b[34m(self)\u001b[39m\n\u001b[32m     25\u001b[39m initial_guess = [\u001b[32m0.0\u001b[39m] * (\u001b[38;5;28mself\u001b[39m.poly_degree + \u001b[32m1\u001b[39m)\n\u001b[32m     27\u001b[39m \u001b[38;5;28;01mfor\u001b[39;00m coord \u001b[38;5;129;01min\u001b[39;00m coords_to_fit:\n\u001b[32m---> \u001b[39m\u001b[32m28\u001b[39m     popt, _ = \u001b[43mcurve_fit\u001b[49m\u001b[43m(\u001b[49m\n\u001b[32m     29\u001b[39m \u001b[43m        \u001b[49m\u001b[38;5;28;43mself\u001b[39;49m\u001b[43m.\u001b[49m\u001b[43m_poly_model\u001b[49m\u001b[43m,\u001b[49m\n\u001b[32m     30\u001b[39m \u001b[43m        \u001b[49m\u001b[38;5;28;43mself\u001b[39;49m\u001b[43m.\u001b[49m\u001b[43mdata\u001b[49m\u001b[43m[\u001b[49m\u001b[33;43m'\u001b[39;49m\u001b[33;43mtime\u001b[39;49m\u001b[33;43m'\u001b[39;49m\u001b[43m]\u001b[49m\u001b[43m,\u001b[49m\n\u001b[32m     31\u001b[39m \u001b[43m        \u001b[49m\u001b[38;5;28;43mself\u001b[39;49m\u001b[43m.\u001b[49m\u001b[43mdata\u001b[49m\u001b[43m[\u001b[49m\u001b[43mcoord\u001b[49m\u001b[43m]\u001b[49m\u001b[43m,\u001b[49m\n\u001b[32m     32\u001b[39m \u001b[43m        \u001b[49m\u001b[43mp0\u001b[49m\u001b[43m=\u001b[49m\u001b[43minitial_guess\u001b[49m\n\u001b[32m     33\u001b[39m \u001b[43m    \u001b[49m\u001b[43m)\u001b[49m\n\u001b[32m     34\u001b[39m     \u001b[38;5;28mself\u001b[39m.params[coord] = popt\n",
      "\u001b[36mFile \u001b[39m\u001b[32m/mnt/c/Users/Andrew Qin/Desktop/HVS/hvs_env/lib/python3.12/site-packages/scipy/optimize/_minpack_py.py:1014\u001b[39m, in \u001b[36mcurve_fit\u001b[39m\u001b[34m(f, xdata, ydata, p0, sigma, absolute_sigma, check_finite, bounds, method, jac, full_output, nan_policy, **kwargs)\u001b[39m\n\u001b[32m   1011\u001b[39m \u001b[38;5;28;01mif\u001b[39;00m ydata.size != \u001b[32m1\u001b[39m \u001b[38;5;129;01mand\u001b[39;00m n > ydata.size:\n\u001b[32m   1012\u001b[39m     \u001b[38;5;28;01mraise\u001b[39;00m \u001b[38;5;167;01mTypeError\u001b[39;00m(\u001b[33mf\u001b[39m\u001b[33m\"\u001b[39m\u001b[33mThe number of func parameters=\u001b[39m\u001b[38;5;132;01m{\u001b[39;00mn\u001b[38;5;132;01m}\u001b[39;00m\u001b[33m must not\u001b[39m\u001b[33m\"\u001b[39m\n\u001b[32m   1013\u001b[39m                     \u001b[33mf\u001b[39m\u001b[33m\"\u001b[39m\u001b[33m exceed the number of data points=\u001b[39m\u001b[38;5;132;01m{\u001b[39;00mydata.size\u001b[38;5;132;01m}\u001b[39;00m\u001b[33m\"\u001b[39m)\n\u001b[32m-> \u001b[39m\u001b[32m1014\u001b[39m res = \u001b[43mleastsq\u001b[49m\u001b[43m(\u001b[49m\u001b[43mfunc\u001b[49m\u001b[43m,\u001b[49m\u001b[43m \u001b[49m\u001b[43mp0\u001b[49m\u001b[43m,\u001b[49m\u001b[43m \u001b[49m\u001b[43mDfun\u001b[49m\u001b[43m=\u001b[49m\u001b[43mjac\u001b[49m\u001b[43m,\u001b[49m\u001b[43m \u001b[49m\u001b[43mfull_output\u001b[49m\u001b[43m=\u001b[49m\u001b[32;43m1\u001b[39;49m\u001b[43m,\u001b[49m\u001b[43m \u001b[49m\u001b[43m*\u001b[49m\u001b[43m*\u001b[49m\u001b[43mkwargs\u001b[49m\u001b[43m)\u001b[49m\n\u001b[32m   1015\u001b[39m popt, pcov, infodict, errmsg, ier = res\n\u001b[32m   1016\u001b[39m ysize = \u001b[38;5;28mlen\u001b[39m(infodict[\u001b[33m'\u001b[39m\u001b[33mfvec\u001b[39m\u001b[33m'\u001b[39m])\n",
      "\u001b[36mFile \u001b[39m\u001b[32m/mnt/c/Users/Andrew Qin/Desktop/HVS/hvs_env/lib/python3.12/site-packages/scipy/optimize/_minpack_py.py:425\u001b[39m, in \u001b[36mleastsq\u001b[39m\u001b[34m(func, x0, args, Dfun, full_output, col_deriv, ftol, xtol, gtol, maxfev, epsfcn, factor, diag)\u001b[39m\n\u001b[32m    423\u001b[39m \u001b[38;5;28;01mif\u001b[39;00m \u001b[38;5;129;01mnot\u001b[39;00m \u001b[38;5;28misinstance\u001b[39m(args, \u001b[38;5;28mtuple\u001b[39m):\n\u001b[32m    424\u001b[39m     args = (args,)\n\u001b[32m--> \u001b[39m\u001b[32m425\u001b[39m shape, dtype = \u001b[43m_check_func\u001b[49m\u001b[43m(\u001b[49m\u001b[33;43m'\u001b[39;49m\u001b[33;43mleastsq\u001b[39;49m\u001b[33;43m'\u001b[39;49m\u001b[43m,\u001b[49m\u001b[43m \u001b[49m\u001b[33;43m'\u001b[39;49m\u001b[33;43mfunc\u001b[39;49m\u001b[33;43m'\u001b[39;49m\u001b[43m,\u001b[49m\u001b[43m \u001b[49m\u001b[43mfunc\u001b[49m\u001b[43m,\u001b[49m\u001b[43m \u001b[49m\u001b[43mx0\u001b[49m\u001b[43m,\u001b[49m\u001b[43m \u001b[49m\u001b[43margs\u001b[49m\u001b[43m,\u001b[49m\u001b[43m \u001b[49m\u001b[43mn\u001b[49m\u001b[43m)\u001b[49m\n\u001b[32m    426\u001b[39m m = shape[\u001b[32m0\u001b[39m]\n\u001b[32m    428\u001b[39m \u001b[38;5;28;01mif\u001b[39;00m n > m:\n",
      "\u001b[36mFile \u001b[39m\u001b[32m/mnt/c/Users/Andrew Qin/Desktop/HVS/hvs_env/lib/python3.12/site-packages/scipy/optimize/_minpack_py.py:23\u001b[39m, in \u001b[36m_check_func\u001b[39m\u001b[34m(checker, argname, thefunc, x0, args, numinputs, output_shape)\u001b[39m\n\u001b[32m     21\u001b[39m \u001b[38;5;28;01mdef\u001b[39;00m\u001b[38;5;250m \u001b[39m\u001b[34m_check_func\u001b[39m(checker, argname, thefunc, x0, args, numinputs,\n\u001b[32m     22\u001b[39m                 output_shape=\u001b[38;5;28;01mNone\u001b[39;00m):\n\u001b[32m---> \u001b[39m\u001b[32m23\u001b[39m     res = atleast_1d(\u001b[43mthefunc\u001b[49m\u001b[43m(\u001b[49m\u001b[43m*\u001b[49m\u001b[43m(\u001b[49m\u001b[43m(\u001b[49m\u001b[43mx0\u001b[49m\u001b[43m[\u001b[49m\u001b[43m:\u001b[49m\u001b[43mnuminputs\u001b[49m\u001b[43m]\u001b[49m\u001b[43m,\u001b[49m\u001b[43m)\u001b[49m\u001b[43m \u001b[49m\u001b[43m+\u001b[49m\u001b[43m \u001b[49m\u001b[43margs\u001b[49m\u001b[43m)\u001b[49m\u001b[43m)\u001b[49m)\n\u001b[32m     24\u001b[39m     \u001b[38;5;28;01mif\u001b[39;00m (output_shape \u001b[38;5;129;01mis\u001b[39;00m \u001b[38;5;129;01mnot\u001b[39;00m \u001b[38;5;28;01mNone\u001b[39;00m) \u001b[38;5;129;01mand\u001b[39;00m (shape(res) != output_shape):\n\u001b[32m     25\u001b[39m         \u001b[38;5;28;01mif\u001b[39;00m (output_shape[\u001b[32m0\u001b[39m] != \u001b[32m1\u001b[39m):\n",
      "\u001b[36mFile \u001b[39m\u001b[32m/mnt/c/Users/Andrew Qin/Desktop/HVS/hvs_env/lib/python3.12/site-packages/scipy/optimize/_minpack_py.py:522\u001b[39m, in \u001b[36m_lightweight_memoizer.<locals>._memoized_func\u001b[39m\u001b[34m(params)\u001b[39m\n\u001b[32m    519\u001b[39m \u001b[38;5;28;01melif\u001b[39;00m _memoized_func.last_params \u001b[38;5;129;01mis\u001b[39;00m \u001b[38;5;129;01mnot\u001b[39;00m \u001b[38;5;28;01mNone\u001b[39;00m:\n\u001b[32m    520\u001b[39m     _memoized_func.skip_lookup = \u001b[38;5;28;01mTrue\u001b[39;00m\n\u001b[32m--> \u001b[39m\u001b[32m522\u001b[39m val = \u001b[43mf\u001b[49m\u001b[43m(\u001b[49m\u001b[43mparams\u001b[49m\u001b[43m)\u001b[49m\n\u001b[32m    524\u001b[39m \u001b[38;5;28;01mif\u001b[39;00m _memoized_func.last_params \u001b[38;5;129;01mis\u001b[39;00m \u001b[38;5;28;01mNone\u001b[39;00m:\n\u001b[32m    525\u001b[39m     _memoized_func.last_params = np.copy(params)\n",
      "\u001b[36mFile \u001b[39m\u001b[32m/mnt/c/Users/Andrew Qin/Desktop/HVS/hvs_env/lib/python3.12/site-packages/scipy/optimize/_minpack_py.py:539\u001b[39m, in \u001b[36m_wrap_func.<locals>.func_wrapped\u001b[39m\u001b[34m(params)\u001b[39m\n\u001b[32m    538\u001b[39m \u001b[38;5;28;01mdef\u001b[39;00m\u001b[38;5;250m \u001b[39m\u001b[34mfunc_wrapped\u001b[39m(params):\n\u001b[32m--> \u001b[39m\u001b[32m539\u001b[39m     \u001b[38;5;28;01mreturn\u001b[39;00m \u001b[43mfunc\u001b[49m\u001b[43m(\u001b[49m\u001b[43mxdata\u001b[49m\u001b[43m,\u001b[49m\u001b[43m \u001b[49m\u001b[43m*\u001b[49m\u001b[43mparams\u001b[49m\u001b[43m)\u001b[49m\u001b[43m \u001b[49m\u001b[43m-\u001b[49m\u001b[43m \u001b[49m\u001b[43mydata\u001b[49m\n",
      "\u001b[31mValueError\u001b[39m: operands could not be broadcast together with shapes (5,) (115,) "
     ]
    }
   ],
   "source": [
    "dynamic_potential = MWPotential(mw_orbit_path=mw_orbit_path, lmc_orbit_path=lmc_orbit_path)\n",
    "custom_orbit = np.zeros((N_STEPS, 6))\n",
    "custom_orbit[0] = np.concatenate([initial_pos_custom, initial_vel_custom])\n",
    "energies = np.zeros(N_STEPS)\n",
    "\n",
    "# Integration loop\n",
    "pos, vel = initial_pos_custom, initial_vel_custom\n",
    "for i in tqdm(range(N_STEPS), desc=\"Custom Integration\"):\n",
    "    t = times[i]\n",
    "    if i > 0:\n",
    "        pos, vel = leapfrog_step_time_varying(pos, vel, t, DT, dynamic_potential)\n",
    "    \n",
    "    custom_orbit[i] = np.concatenate([pos, vel])\n",
    "    energies[i] = dynamic_potential.get_total_energy(pos, vel, t)\n",
    "\n",
    "print(\"Custom integration complete.\")\n",
    "\n",
    "print(\"\\nIntegrating orbit with Gala's static MilkyWayPotential...\")\n",
    "gala_potential = gp.MilkyWayPotential()\n",
    "initial_phasespace_gala = gd.PhaseSpacePosition(pos=initial_pos_gala, vel=initial_vel_gala)\n",
    "gala_orbit = gala_potential.integrate_orbit(initial_phasespace_gala, dt=DT*u.Myr, n_steps=N_STEPS-1)\n",
    "print(\"Gala integration complete.\")"
   ]
  },
  {
   "cell_type": "markdown",
   "id": "76ccf875",
   "metadata": {},
   "source": [
    "#### Probability distribution plots"
   ]
  }
 ],
 "metadata": {
  "kernelspec": {
   "display_name": "hvs_env",
   "language": "python",
   "name": "python3"
  },
  "language_info": {
   "codemirror_mode": {
    "name": "ipython",
    "version": 3
   },
   "file_extension": ".py",
   "mimetype": "text/x-python",
   "name": "python",
   "nbconvert_exporter": "python",
   "pygments_lexer": "ipython3",
   "version": "3.12.3"
  }
 },
 "nbformat": 4,
 "nbformat_minor": 5
}
